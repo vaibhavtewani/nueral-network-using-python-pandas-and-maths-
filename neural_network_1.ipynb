{
 "cells": [
  {
   "cell_type": "markdown",
   "id": "f4eb1f10",
   "metadata": {},
   "source": [
    "# Simple MNIST NN from scratch\n",
    "In this notebook, I implemented a simple two-layer neural network and trained it on the MNIST digit recognizer dataset. It's meant to be an instructional example, through which you can understand the underlying math of neural networks better.\n"
   ]
  },
  {
   "cell_type": "code",
   "execution_count": 6,
   "id": "45c9155e",
   "metadata": {},
   "outputs": [
    {
     "data": {
      "text/plain": [
       "array([1, 1, 5, ..., 8, 9, 1], dtype=int64)"
      ]
     },
     "execution_count": 6,
     "metadata": {},
     "output_type": "execute_result"
    }
   ],
   "source": [
    "\n",
    "\n",
    "import numpy as np\n",
    "import pandas as pd\n",
    "from matplotlib import pyplot as plt\n",
    "\n",
    "data = pd.read_csv(\"C:/train.csv\")\n",
    "data = np.array(data)\n",
    "m, n = data.shape\n",
    "np.random.shuffle(data) # shuffle before splitting into dev and training sets\n",
    "\n",
    "data_dev = data[0:1000].T\n",
    "Y_dev = data_dev[0]\n",
    "X_dev = data_dev[1:n]\n",
    "X_dev = X_dev / 255.\n",
    "\n",
    "data_train = data[1000:m].T\n",
    "Y_train = data_train[0]\n",
    "X_train = data_train[1:n]\n",
    "X_train = X_train / 255.\n",
    "_,m_train = X_train.shape\n",
    "Y_train\n",
    "\n"
   ]
  },
  {
   "cell_type": "markdown",
   "id": "9cfa5e1a",
   "metadata": {},
   "source": [
    "Our NN will have a simple two-layer architecture. Input layer a[0]\n",
    " will have 784 units corresponding to the 784 pixels in each 28x28 input image. A hidden layer a[1]\n",
    " will have 10 units with ReLU activation, and finally our output layer a[2]\n",
    " will have 10 units corresponding to the ten digit classes with softmax activation.\n",
    "\n",
    "Forward propagation\n",
    "\n",
    "Z[1]=W[1]X+b[1]\n",
    "A[1]=gReLU(Z[1]))\n",
    "Z[2]=W[2]A[1]+b[2]\n",
    "A[2]=gsoftmax(Z[2])\n",
    "Backward propagation\n",
    "\n",
    "dZ[2]=A[2]−Y\n",
    "dW[2]=1mdZ[2]A[1]T\n",
    "dB[2]=1mΣdZ[2]\n",
    "dZ[1]=W[2]TdZ[2].∗g[1]′(z[1])\n",
    "dW[1]=1mdZ[1]A[0]T\n",
    "dB[1]=1mΣdZ[1]\n",
    "Parameter updates\n",
    "\n",
    "W[2]:=W[2]−αdW[2]\n",
    "b[2]:=b[2]−αdb[2]\n",
    "W[1]:=W[1]−αdW[1]\n",
    "b[1]:=b[1]−αdb[1]\n",
    "Vars and shapes\n",
    "\n",
    "Forward prop\n",
    "\n",
    "A[0]=X\n",
    ": 784 x m\n",
    "Z[1]∼A[1]\n",
    ": 10 x m\n",
    "W[1]\n",
    ": 10 x 784 (as W[1]A[0]∼Z[1]\n",
    ")\n",
    "B[1]\n",
    ": 10 x 1\n",
    "Z[2]∼A[2]\n",
    ": 10 x m\n",
    "W[1]\n",
    ": 10 x 10 (as W[2]A[1]∼Z[2]\n",
    ")\n",
    "B[2]\n",
    ": 10 x 1\n",
    "Backprop\n",
    "\n",
    "dZ[2]\n",
    ": 10 x m ( A[2]\n",
    ")\n",
    "dW[2]\n",
    ": 10 x 10\n",
    "dB[2]\n",
    ": 10 x 1\n",
    "dZ[1]\n",
    ": 10 x m ( A[1]\n",
    ")\n",
    "dW[1]\n",
    ": 10 x 10\n",
    "dB[1]\n",
    ": 10 x 1### "
   ]
  },
  {
   "cell_type": "code",
   "execution_count": 7,
   "id": "3cd959e9",
   "metadata": {},
   "outputs": [],
   "source": [
    "def init_params():\n",
    "    W1 = np.random.rand(10, 784) - 0.5\n",
    "    b1 = np.random.rand(10, 1) - 0.5\n",
    "    W2 = np.random.rand(10, 10) - 0.5\n",
    "    b2 = np.random.rand(10, 1) - 0.5\n",
    "    return W1, b1, W2, b2\n",
    "\n",
    "def ReLU(Z):\n",
    "    return np.maximum(Z, 0)\n",
    "\n",
    "def softmax(Z):\n",
    "    A = np.exp(Z) / sum(np.exp(Z))\n",
    "    return A\n",
    "def forward_prop(W1, b1, W2, b2, X):\n",
    "    Z1 = W1.dot(X) + b1\n",
    "    A1 = ReLU(Z1)\n",
    "    Z2 = W2.dot(A1) + b2\n",
    "    A2 = softmax(Z2)\n",
    "    return Z1, A1, Z2, A2\n",
    "\n",
    "def ReLU_deriv(Z):\n",
    "    return Z > 0\n",
    "\n",
    "def one_hot(Y):\n",
    "    one_hot_Y = np.zeros((Y.size, Y.max() + 1))\n",
    "    one_hot_Y[np.arange(Y.size), Y] = 1\n",
    "    one_hot_Y = one_hot_Y.T\n",
    "    return one_hot_Y\n",
    "\n",
    "def backward_prop(Z1, A1, Z2, A2, W1, W2, X, Y):\n",
    "    one_hot_Y = one_hot(Y)\n",
    "    dZ2 = A2 - one_hot_Y\n",
    "    dW2 = 1 / m * dZ2.dot(A1.T)\n",
    "    db2 = 1 / m * np.sum(dZ2)\n",
    "    dZ1 = W2.T.dot(dZ2) * ReLU_deriv(Z1)\n",
    "    dW1 = 1 / m * dZ1.dot(X.T)\n",
    "    db1 = 1 / m * np.sum(dZ1)\n",
    "    return dW1, db1, dW2, db2\n",
    "\n",
    "def update_params(W1, b1, W2, b2, dW1, db1, dW2, db2, alpha):\n",
    "    W1 = W1 - alpha * dW1\n",
    "    b1 = b1 - alpha * db1    \n",
    "    W2 = W2 - alpha * dW2  \n",
    "    b2 = b2 - alpha * db2    \n",
    "    return W1, b1, W2, b2"
   ]
  },
  {
   "cell_type": "code",
   "execution_count": 8,
   "id": "a9270fe8",
   "metadata": {},
   "outputs": [],
   "source": [
    "def get_predictions(A2):\n",
    "    return np.argmax(A2, 0)\n",
    "\n",
    "def get_accuracy(predictions, Y):\n",
    "    print(predictions, Y)\n",
    "    return np.sum(predictions == Y) / Y.size\n",
    "\n",
    "def gradient_descent(X, Y, alpha, iterations):\n",
    "    W1, b1, W2, b2 = init_params()\n",
    "    for i in range(iterations):\n",
    "        Z1, A1, Z2, A2 = forward_prop(W1, b1, W2, b2, X)\n",
    "        dW1, db1, dW2, db2 = backward_prop(Z1, A1, Z2, A2, W1, W2, X, Y)\n",
    "        W1, b1, W2, b2 = update_params(W1, b1, W2, b2, dW1, db1, dW2, db2, alpha)\n",
    "        if i % 10 == 0:\n",
    "            print(\"Iteration: \", i)\n",
    "            predictions = get_predictions(A2)\n",
    "            print(get_accuracy(predictions, Y))\n",
    "    return W1, b1, W2, b2"
   ]
  },
  {
   "cell_type": "code",
   "execution_count": 9,
   "id": "31cc3cb3",
   "metadata": {},
   "outputs": [
    {
     "name": "stdout",
     "output_type": "stream",
     "text": [
      "Iteration:  0\n",
      "[0 0 4 ... 7 5 0] [1 1 5 ... 8 9 1]\n",
      "0.06248780487804878\n",
      "Iteration:  10\n",
      "[0 0 5 ... 0 5 0] [1 1 5 ... 8 9 1]\n",
      "0.1593658536585366\n",
      "Iteration:  20\n",
      "[0 0 5 ... 0 5 0] [1 1 5 ... 8 9 1]\n",
      "0.25421951219512195\n",
      "Iteration:  30\n",
      "[0 9 5 ... 8 5 5] [1 1 5 ... 8 9 1]\n",
      "0.3398536585365854\n",
      "Iteration:  40\n",
      "[8 1 5 ... 8 5 5] [1 1 5 ... 8 9 1]\n",
      "0.40558536585365856\n",
      "Iteration:  50\n",
      "[1 1 5 ... 8 5 1] [1 1 5 ... 8 9 1]\n",
      "0.46475609756097563\n",
      "Iteration:  60\n",
      "[1 1 5 ... 8 5 1] [1 1 5 ... 8 9 1]\n",
      "0.5310731707317073\n",
      "Iteration:  70\n",
      "[1 1 5 ... 8 5 1] [1 1 5 ... 8 9 1]\n",
      "0.5803658536585365\n",
      "Iteration:  80\n",
      "[1 1 5 ... 8 5 1] [1 1 5 ... 8 9 1]\n",
      "0.6170975609756097\n",
      "Iteration:  90\n",
      "[1 1 5 ... 8 5 1] [1 1 5 ... 8 9 1]\n",
      "0.6463658536585366\n",
      "Iteration:  100\n",
      "[1 1 5 ... 8 5 1] [1 1 5 ... 8 9 1]\n",
      "0.6714878048780488\n",
      "Iteration:  110\n",
      "[1 1 5 ... 8 5 1] [1 1 5 ... 8 9 1]\n",
      "0.6909268292682926\n",
      "Iteration:  120\n",
      "[1 1 5 ... 8 5 1] [1 1 5 ... 8 9 1]\n",
      "0.7080731707317073\n",
      "Iteration:  130\n",
      "[1 1 5 ... 8 5 1] [1 1 5 ... 8 9 1]\n",
      "0.7233414634146341\n",
      "Iteration:  140\n",
      "[1 1 5 ... 8 5 1] [1 1 5 ... 8 9 1]\n",
      "0.7349756097560975\n",
      "Iteration:  150\n",
      "[1 1 5 ... 8 5 1] [1 1 5 ... 8 9 1]\n",
      "0.7459268292682927\n",
      "Iteration:  160\n",
      "[1 1 5 ... 8 5 1] [1 1 5 ... 8 9 1]\n",
      "0.7561219512195122\n",
      "Iteration:  170\n",
      "[1 1 5 ... 8 5 1] [1 1 5 ... 8 9 1]\n",
      "0.7649512195121951\n",
      "Iteration:  180\n",
      "[1 1 5 ... 8 5 1] [1 1 5 ... 8 9 1]\n",
      "0.7724146341463415\n",
      "Iteration:  190\n",
      "[1 1 5 ... 8 5 1] [1 1 5 ... 8 9 1]\n",
      "0.7791219512195122\n",
      "Iteration:  200\n",
      "[1 1 5 ... 8 5 1] [1 1 5 ... 8 9 1]\n",
      "0.7854390243902439\n",
      "Iteration:  210\n",
      "[1 1 5 ... 8 5 1] [1 1 5 ... 8 9 1]\n",
      "0.79\n",
      "Iteration:  220\n",
      "[1 1 5 ... 8 5 1] [1 1 5 ... 8 9 1]\n",
      "0.7953658536585366\n",
      "Iteration:  230\n",
      "[1 1 5 ... 8 5 1] [1 1 5 ... 8 9 1]\n",
      "0.7993658536585366\n",
      "Iteration:  240\n",
      "[1 1 5 ... 8 5 1] [1 1 5 ... 8 9 1]\n",
      "0.8032682926829269\n",
      "Iteration:  250\n",
      "[1 1 5 ... 8 5 1] [1 1 5 ... 8 9 1]\n",
      "0.807219512195122\n",
      "Iteration:  260\n",
      "[1 1 5 ... 8 5 1] [1 1 5 ... 8 9 1]\n",
      "0.8111219512195122\n",
      "Iteration:  270\n",
      "[1 1 5 ... 8 5 1] [1 1 5 ... 8 9 1]\n",
      "0.8149024390243902\n",
      "Iteration:  280\n",
      "[1 1 5 ... 8 5 1] [1 1 5 ... 8 9 1]\n",
      "0.8183170731707317\n",
      "Iteration:  290\n",
      "[1 1 5 ... 8 5 1] [1 1 5 ... 8 9 1]\n",
      "0.821170731707317\n",
      "Iteration:  300\n",
      "[1 1 5 ... 8 5 1] [1 1 5 ... 8 9 1]\n",
      "0.8234634146341463\n",
      "Iteration:  310\n",
      "[1 1 5 ... 8 5 1] [1 1 5 ... 8 9 1]\n",
      "0.8259268292682926\n",
      "Iteration:  320\n",
      "[1 1 5 ... 8 5 1] [1 1 5 ... 8 9 1]\n",
      "0.8284634146341463\n",
      "Iteration:  330\n",
      "[1 1 5 ... 8 5 1] [1 1 5 ... 8 9 1]\n",
      "0.8311463414634146\n",
      "Iteration:  340\n",
      "[1 1 5 ... 8 5 1] [1 1 5 ... 8 9 1]\n",
      "0.8336341463414634\n",
      "Iteration:  350\n",
      "[1 1 5 ... 8 5 1] [1 1 5 ... 8 9 1]\n",
      "0.8359756097560975\n",
      "Iteration:  360\n",
      "[1 1 5 ... 8 5 1] [1 1 5 ... 8 9 1]\n",
      "0.8376341463414634\n",
      "Iteration:  370\n",
      "[1 1 5 ... 8 5 1] [1 1 5 ... 8 9 1]\n",
      "0.8394878048780487\n",
      "Iteration:  380\n",
      "[1 1 5 ... 8 5 1] [1 1 5 ... 8 9 1]\n",
      "0.8410243902439024\n",
      "Iteration:  390\n",
      "[1 1 5 ... 8 5 1] [1 1 5 ... 8 9 1]\n",
      "0.8428048780487805\n",
      "Iteration:  400\n",
      "[1 1 5 ... 8 5 1] [1 1 5 ... 8 9 1]\n",
      "0.8445609756097561\n",
      "Iteration:  410\n",
      "[1 1 5 ... 8 5 1] [1 1 5 ... 8 9 1]\n",
      "0.8459024390243902\n",
      "Iteration:  420\n",
      "[1 1 5 ... 8 5 1] [1 1 5 ... 8 9 1]\n",
      "0.8472195121951219\n",
      "Iteration:  430\n",
      "[1 1 5 ... 8 5 1] [1 1 5 ... 8 9 1]\n",
      "0.8489024390243902\n",
      "Iteration:  440\n",
      "[1 1 5 ... 8 5 1] [1 1 5 ... 8 9 1]\n",
      "0.8503414634146341\n",
      "Iteration:  450\n",
      "[1 1 5 ... 8 5 1] [1 1 5 ... 8 9 1]\n",
      "0.8520243902439024\n",
      "Iteration:  460\n",
      "[1 1 5 ... 8 5 1] [1 1 5 ... 8 9 1]\n",
      "0.8533414634146341\n",
      "Iteration:  470\n",
      "[1 1 5 ... 8 5 1] [1 1 5 ... 8 9 1]\n",
      "0.8549268292682927\n",
      "Iteration:  480\n",
      "[1 1 5 ... 8 5 1] [1 1 5 ... 8 9 1]\n",
      "0.8562195121951219\n",
      "Iteration:  490\n",
      "[1 1 5 ... 8 5 1] [1 1 5 ... 8 9 1]\n",
      "0.8574634146341463\n"
     ]
    }
   ],
   "source": [
    "W1, b1, W2, b2 = gradient_descent(X_train, Y_train, 0.10, 500)\n"
   ]
  },
  {
   "cell_type": "code",
   "execution_count": 10,
   "id": "5e1d0de7",
   "metadata": {},
   "outputs": [],
   "source": [
    "def make_predictions(X, W1, b1, W2, b2):\n",
    "    _, _, _, A2 = forward_prop(W1, b1, W2, b2, X)\n",
    "    predictions = get_predictions(A2)\n",
    "    return predictions\n",
    "\n",
    "def test_prediction(index, W1, b1, W2, b2):\n",
    "    current_image = X_train[:, index, None]\n",
    "    prediction = make_predictions(X_train[:, index, None], W1, b1, W2, b2)\n",
    "    label = Y_train[index]\n",
    "    print(\"Prediction: \", prediction)\n",
    "    print(\"Label: \", label)\n",
    "    \n",
    "    current_image = current_image.reshape((28, 28)) * 255\n",
    "    plt.gray()\n",
    "    plt.imshow(current_image, interpolation='nearest')\n",
    "    plt.show()"
   ]
  },
  {
   "cell_type": "code",
   "execution_count": 11,
   "id": "5d9d406d",
   "metadata": {},
   "outputs": [
    {
     "name": "stdout",
     "output_type": "stream",
     "text": [
      "Prediction:  [1]\n",
      "Label:  1\n"
     ]
    },
    {
     "data": {
      "image/png": "[encoded data removed]",
      "text/plain": [
       "<Figure size 640x480 with 1 Axes>"
      ]
     },
     "metadata": {},
     "output_type": "display_data"
    },
    {
     "name": "stdout",
     "output_type": "stream",
     "text": [
      "Prediction:  [1]\n",
      "Label:  1\n"
     ]
    },
    {
     "data": {
      "image/png": "[encoded data removed]",
      "text/plain": [
       "<Figure size 640x480 with 1 Axes>"
      ]
     },
     "metadata": {},
     "output_type": "display_data"
    },
    {
     "name": "stdout",
     "output_type": "stream",
     "text": [
      "Prediction:  [5]\n",
      "Label:  5\n"
     ]
    },
    {
     "data": {
      "image/png": "[encoded data removed]",
      "text/plain": [
       "<Figure size 640x480 with 1 Axes>"
      ]
     },
     "metadata": {},
     "output_type": "display_data"
    },
    {
     "name": "stdout",
     "output_type": "stream",
     "text": [
      "Prediction:  [4]\n",
      "Label:  4\n"
     ]
    },
    {
     "data": {
      "image/png": "[encoded data removed]",
      "text/plain": [
       "<Figure size 640x480 with 1 Axes>"
      ]
     },
     "metadata": {},
     "output_type": "display_data"
    }
   ],
   "source": [
    "test_prediction(0, W1, b1, W2, b2)\n",
    "test_prediction(1, W1, b1, W2, b2)\n",
    "test_prediction(2, W1, b1, W2, b2)\n",
    "test_prediction(3, W1, b1, W2, b2)"
   ]
  },
  {
   "cell_type": "code",
   "execution_count": 12,
   "id": "d189d17f",
   "metadata": {},
   "outputs": [
    {
     "name": "stdout",
     "output_type": "stream",
     "text": [
      "[0 3 4 5 4 5 6 8 4 4 7 9 7 5 1 3 0 1 7 7 7 8 6 3 0 7 7 8 4 6 6 4 9 1 7 5 1\n",
      " 6 2 4 1 4 7 9 5 1 5 8 7 1 3 4 0 4 0 6 4 7 6 3 1 7 5 5 6 1 3 4 1 2 2 4 1 1\n",
      " 9 1 0 3 1 7 1 3 6 8 5 0 7 6 2 0 2 9 5 9 9 4 8 6 3 2 6 7 1 8 8 6 9 7 7 8 2\n",
      " 2 6 0 2 9 7 5 7 7 2 5 8 6 5 5 4 8 1 8 2 9 0 8 8 5 0 9 3 3 0 8 1 4 5 2 9 1\n",
      " 6 4 2 3 7 6 2 5 5 2 8 1 0 0 0 9 9 1 4 7 1 9 6 9 7 4 6 0 3 8 8 4 4 4 7 3 8\n",
      " 1 4 0 5 3 0 5 0 3 4 7 2 8 0 0 9 1 9 8 3 2 5 9 8 6 0 9 3 3 8 3 7 0 0 5 8 5\n",
      " 2 9 4 1 3 7 1 8 8 8 3 1 2 7 7 4 9 2 4 0 9 9 2 6 2 8 0 8 8 3 9 4 1 0 3 1 4\n",
      " 9 0 3 4 7 1 8 6 5 5 2 6 1 9 3 2 2 5 4 3 5 6 7 4 7 2 4 6 7 0 6 1 6 3 4 8 6\n",
      " 5 4 5 7 3 9 6 4 4 6 6 6 3 7 7 2 7 2 5 9 3 4 1 1 4 7 9 9 9 7 8 1 8 8 5 8 5\n",
      " 8 7 2 1 8 7 4 2 7 4 7 1 2 4 9 4 7 6 2 8 9 6 3 5 1 0 1 0 3 8 3 6 0 5 3 9 4\n",
      " 8 5 6 6 1 2 7 0 5 8 4 6 5 9 2 9 2 3 1 7 5 9 2 0 4 5 9 1 3 9 7 0 0 9 8 4 9\n",
      " 0 5 6 5 8 2 5 6 7 2 0 0 6 4 0 3 8 9 8 8 3 8 4 9 3 0 4 7 8 2 7 2 9 0 2 4 3\n",
      " 4 1 3 1 2 2 1 3 8 6 9 4 8 1 6 1 0 3 0 0 6 0 6 1 5 8 4 1 1 4 4 7 8 9 3 0 1\n",
      " 0 6 8 0 1 0 4 3 1 0 9 6 1 1 4 2 1 8 0 1 9 4 1 4 2 7 1 0 8 1 7 6 8 8 4 5 4\n",
      " 4 3 0 9 8 3 9 3 1 8 1 8 5 8 7 2 0 1 0 8 6 8 5 1 3 7 9 7 2 1 1 4 6 4 5 5 3\n",
      " 4 8 7 7 6 3 1 5 7 7 4 3 1 9 8 9 5 4 2 6 4 9 7 6 5 9 0 1 3 6 4 8 3 0 2 1 4\n",
      " 3 6 5 3 4 3 4 0 8 4 9 4 0 3 5 6 2 8 0 7 8 9 3 1 4 1 4 1 9 0 9 8 4 0 2 1 2\n",
      " 3 0 2 0 8 6 8 5 8 2 6 6 8 7 3 5 4 7 5 2 8 2 9 7 6 4 8 7 0 1 1 1 4 6 1 0 3\n",
      " 3 4 2 9 1 6 4 0 3 4 1 3 8 4 9 0 7 4 8 3 9 5 5 5 0 1 4 8 0 9 8 9 1 6 3 9 9\n",
      " 8 8 3 7 6 6 9 6 1 4 0 0 3 2 4 7 7 9 4 1 0 4 1 1 1 6 5 9 9 6 8 6 0 2 0 3 0\n",
      " 7 2 1 6 3 8 5 1 3 9 3 3 2 1 4 9 5 2 1 8 4 4 4 1 3 1 9 7 9 3 2 0 4 8 6 2 5\n",
      " 9 1 7 9 3 3 9 4 3 8 3 1 9 5 2 4 5 4 2 1 4 9 9 6 0 7 7 6 8 1 5 1 0 2 3 6 6\n",
      " 4 1 4 5 9 2 7 0 5 0 0 7 4 6 9 6 1 1 6 5 9 8 2 9 2 9 3 1 9 6 2 0 9 2 6 3 1\n",
      " 0 4 4 1 7 5 1 7 2 7 8 4 3 2 7 6 7 6 5 1 8 1 9 6 7 6 7 1 3 1 4 7 1 9 0 7 8\n",
      " 6 7 3 0 5 2 6 3 9 3 6 0 7 6 4 1 8 9 6 7 9 4 2 7 0 2 3 0 9 9 9 1 5 4 6 1 8\n",
      " 8 5 5 1 9 0 6 8 1 4 9 8 1 7 3 1 9 6 5 3 2 3 5 6 3 8 9 6 4 2 2 1 2 5 6 9 4\n",
      " 9 4 6 4 8 1 3 6 9 2 5 7 0 1 9 9 0 5 5 0 0 1 6 6 0 2 9 9 4 2 4 9 1 0 6 0 4\n",
      " 7] [0 2 9 5 4 5 0 8 4 4 7 9 7 5 1 3 0 1 7 7 7 8 6 3 0 7 2 8 4 6 6 4 9 1 7 5 1\n",
      " 6 6 4 1 9 7 9 5 1 5 1 9 1 3 4 0 4 0 6 4 7 6 3 1 7 3 5 6 1 3 4 1 2 3 4 1 1\n",
      " 7 2 5 3 1 7 1 3 6 8 5 0 7 6 2 0 1 8 5 4 7 4 8 6 3 2 6 7 1 8 8 6 9 7 7 8 7\n",
      " 9 6 0 2 9 7 5 7 7 2 5 8 6 5 5 4 8 1 8 2 9 0 8 8 5 0 9 3 3 0 8 1 4 5 2 9 1\n",
      " 8 9 2 3 7 2 2 5 5 2 8 1 0 0 0 9 4 4 2 7 1 9 6 9 5 4 6 0 3 8 8 4 9 4 7 5 5\n",
      " 1 4 0 5 5 0 5 0 3 4 7 2 8 0 0 9 1 9 8 3 2 5 9 8 6 0 9 3 3 8 3 7 0 0 5 8 5\n",
      " 2 4 4 1 3 7 1 8 8 8 2 1 2 7 7 9 9 2 4 0 9 9 2 6 2 8 0 8 8 3 9 4 1 0 3 1 4\n",
      " 9 0 3 4 9 1 2 6 5 5 2 6 1 9 8 2 2 5 4 9 5 6 7 4 7 8 4 6 7 0 6 1 6 8 4 8 0\n",
      " 5 4 5 7 3 9 3 4 4 6 6 6 3 7 7 4 7 2 5 9 3 4 1 1 4 7 9 9 9 7 8 1 8 8 5 8 5\n",
      " 8 7 2 1 8 7 4 2 7 4 7 1 2 4 7 5 7 6 2 8 9 6 3 5 1 0 1 2 5 8 3 6 0 5 5 4 4\n",
      " 8 5 3 6 3 2 7 0 5 8 4 6 5 9 2 9 2 5 1 7 5 9 7 0 4 5 9 1 3 9 7 0 0 9 8 4 9\n",
      " 0 5 6 5 8 2 5 2 7 2 0 0 6 4 0 3 8 9 8 8 3 8 8 9 3 0 5 7 9 2 7 2 9 0 2 4 3\n",
      " 4 1 3 1 2 2 1 3 8 6 9 4 5 1 6 1 0 3 0 0 2 0 6 1 6 8 4 1 1 4 4 7 8 9 3 0 1\n",
      " 0 6 8 6 8 0 4 3 1 5 3 6 1 1 4 4 1 3 0 8 4 9 2 5 3 7 1 6 3 1 7 6 8 8 4 5 4\n",
      " 4 3 0 9 8 3 8 3 1 8 1 8 5 8 7 2 0 1 0 8 6 8 5 1 3 9 9 2 2 1 1 4 8 4 9 5 2\n",
      " 4 8 7 7 6 5 1 5 7 7 4 3 1 9 8 8 5 8 2 6 4 9 7 6 3 9 0 1 3 6 4 8 3 0 2 1 4\n",
      " 3 6 5 3 4 3 4 0 8 4 9 4 8 3 5 6 2 8 0 7 8 9 3 1 9 7 9 1 7 0 9 7 4 0 2 1 2\n",
      " 3 8 8 6 8 6 8 5 8 2 6 6 8 7 3 5 9 7 5 2 8 2 9 7 6 4 8 7 0 1 1 1 4 6 1 0 3\n",
      " 2 4 2 9 1 6 2 0 3 4 1 3 8 4 9 0 7 4 8 3 9 5 5 5 0 1 4 8 0 9 8 9 1 6 3 9 9\n",
      " 8 8 3 7 6 7 9 6 1 4 0 0 5 2 4 0 7 9 4 6 0 4 1 1 1 6 5 9 7 6 8 6 0 2 0 3 0\n",
      " 7 2 7 6 0 8 0 1 3 9 3 3 0 1 4 7 5 2 1 8 4 4 4 1 3 1 9 3 4 3 3 0 9 8 6 2 3\n",
      " 9 1 7 9 3 3 4 4 3 8 3 1 9 5 2 4 5 4 2 8 4 9 4 6 0 7 7 6 7 3 5 1 0 2 5 6 6\n",
      " 4 1 8 5 9 2 7 0 5 0 0 7 8 6 9 6 1 9 6 5 9 2 2 9 2 7 3 1 9 6 2 0 9 2 6 3 1\n",
      " 0 4 6 1 7 5 9 7 2 7 8 4 3 2 7 6 5 6 3 1 8 1 9 6 7 6 7 1 3 1 4 7 1 9 4 7 8\n",
      " 6 7 9 0 5 2 6 3 9 5 6 0 7 6 9 1 8 4 6 7 9 4 2 7 0 4 3 0 4 4 9 1 5 4 6 1 8\n",
      " 8 5 5 1 9 0 2 8 1 9 9 8 1 2 3 1 7 2 5 3 2 3 8 6 3 8 9 6 4 2 4 1 2 5 6 9 8\n",
      " 7 4 6 4 8 1 3 6 9 7 8 7 0 1 9 9 0 5 5 0 0 1 6 6 0 2 9 9 4 2 4 8 1 0 6 0 4\n",
      " 7]\n"
     ]
    },
    {
     "data": {
      "text/plain": [
       "0.855"
      ]
     },
     "execution_count": 12,
     "metadata": {},
     "output_type": "execute_result"
    }
   ],
   "source": [
    "dev_predictions = make_predictions(X_dev, W1, b1, W2, b2)\n",
    "get_accuracy(dev_predictions, Y_dev)"
   ]
  },
  {
   "cell_type": "code",
   "execution_count": null,
   "id": "b17e361f",
   "metadata": {},
   "outputs": [],
   "source": []
  }
 ],
 "metadata": {
  "kernelspec": {
   "display_name": "Python 3 (ipykernel)",
   "language": "python",
   "name": "python3"
  },
  "language_info": {
   "codemirror_mode": {
    "name": "ipython",
    "version": 3
   },
   "file_extension": ".py",
   "mimetype": "text/x-python",
   "name": "python",
   "nbconvert_exporter": "python",
   "pygments_lexer": "ipython3",
   "version": "3.9.13"
  }
 },
 "nbformat": 4,
 "nbformat_minor": 5
}
